{
 "cells": [
  {
   "cell_type": "code",
   "execution_count": 1,
   "source": [
    "anas=\"anas\"\n",
    "anas"
   ],
   "outputs": [
    {
     "output_type": "execute_result",
     "data": {
      "text/plain": [
       "'anas'"
      ]
     },
     "metadata": {},
     "execution_count": 1
    }
   ],
   "metadata": {}
  }
 ],
 "metadata": {
  "orig_nbformat": 4,
  "language_info": {
   "name": "python",
   "version": "3.9.6",
   "mimetype": "text/x-python",
   "codemirror_mode": {
    "name": "ipython",
    "version": 3
   },
   "pygments_lexer": "ipython3",
   "nbconvert_exporter": "python",
   "file_extension": ".py"
  },
  "kernelspec": {
   "name": "python3",
   "display_name": "Python 3.9.6 64-bit ('.venv': poetry)"
  },
  "interpreter": {
   "hash": "8e775a98ab51263e3518ca602ca045a5815305a9ada5a50d0e47b220d0a83a86"
  }
 },
 "nbformat": 4,
 "nbformat_minor": 2
}